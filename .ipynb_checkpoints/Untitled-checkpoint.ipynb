{
 "cells": [
  {
   "cell_type": "code",
   "execution_count": 1,
   "metadata": {
    "collapsed": true
   },
   "outputs": [],
   "source": [
    "import serial\n",
    "from __future__ import print_function\n",
    "from ipywidgets import interact, interactive, fixed, interact_manual\n",
    "import ipywidgets as widgets\n",
    "from IPython.display import display\n",
    "import time"
   ]
  },
  {
   "cell_type": "code",
   "execution_count": 4,
   "metadata": {},
   "outputs": [],
   "source": [
    "buspirate = serial.Serial('/dev/ttyUSB0', baudrate=115200, timeout=1)"
   ]
  },
  {
   "cell_type": "markdown",
   "metadata": {},
   "source": [
    "# bus pirate init mode for SPI"
   ]
  },
  {
   "cell_type": "code",
   "execution_count": null,
   "metadata": {},
   "outputs": [],
   "source": [
    "def serial_init(self):\n",
    "    buspirate.write((\"%c\" % 13).encode())\n",
    "    print(buspirate.readline())\n",
    "    buspirate.write((\"%c\" % 13).encode())\n",
    "    print(buspirate.readline())\n",
    "    buspirate.write((\"%c\" % 13).encode())\n",
    "    print(buspirate.readline())\n",
    "    time.sleep(1)\n",
    "    buspirate.write((\"m\\n\").encode())\n",
    "    time.sleep(1)\n",
    "    buspirate.write((\"5\\n\").encode())\n",
    "    print(buspirate.readline())\n",
    "    time.sleep(1)\n",
    "    buspirate.write((\"4\\n\").encode())\n",
    "    print(buspirate.readline())\n",
    "    time.sleep(1)\n",
    "    buspirate.write((\"1\\n\").encode())\n",
    "    print(buspirate.readline())\n",
    "    time.sleep(1)\n",
    "    buspirate.write((\"2\\n\").encode())\n",
    "    print(buspirate.readline())\n",
    "    time.sleep(1)\n",
    "    buspirate.write((\"1\\n\").encode())\n",
    "    print(buspirate.readline())\n",
    "    time.sleep(1)\n",
    "    buspirate.write((\"2\\n\").encode())\n",
    "    print(buspirate.readline())\n",
    "    time.sleep(1)\n",
    "    buspirate.write((\"2\\n\").encode())\n",
    "    print(buspirate.readline())\n",
    "    time.sleep(1)    \n",
    "    buspirate.write((\"W\\n\").encode())\n",
    "    print(buspirate.readline())\n",
    "    time.sleep(1)"
   ]
  },
  {
   "cell_type": "code",
   "execution_count": null,
   "metadata": {},
   "outputs": [],
   "source": [
    "button = widgets.Button(description=\"Init Serial!\")\n",
    "display(button)\n",
    "button.on_click(serial_init)"
   ]
  },
  {
   "cell_type": "code",
   "execution_count": 26,
   "metadata": {
    "collapsed": true
   },
   "outputs": [],
   "source": [
    "def write_resistor_0(resistor_value):\n",
    "    buspirate.reset_input_buffer()\n",
    "    buspirate.write((\"[0b00000000, \" + str(resistor_value) + \"]\\n\").encode())\n",
    "    print(buspirate.readline())\n",
    "    print(buspirate.readline())\n",
    "    print(buspirate.readline())\n",
    "    print(buspirate.readline())\n",
    "    print(buspirate.readline())"
   ]
  },
  {
   "cell_type": "code",
   "execution_count": 27,
   "metadata": {},
   "outputs": [],
   "source": [
    "def write_resistor_1(resistor_value):\n",
    "    buspirate.reset_input_buffer()\n",
    "    buspirate.write((\"[0b00010000, \" + str(resistor_value) + \"]\\n\").encode())\n",
    "    print(buspirate.readline())\n",
    "    print(buspirate.readline())\n",
    "    print(buspirate.readline())\n",
    "    print(buspirate.readline())\n",
    "    print(buspirate.readline())"
   ]
  },
  {
   "cell_type": "code",
   "execution_count": 28,
   "metadata": {},
   "outputs": [
    {
     "data": {
      "application/vnd.jupyter.widget-view+json": {
       "model_id": "9ff4b4f5bd3747a681191ed72a67a675"
      }
     },
     "metadata": {},
     "output_type": "display_data"
    },
    {
     "data": {
      "application/vnd.jupyter.widget-view+json": {
       "model_id": "84f08fdf8d434f948a57df0f8a9ccac0"
      }
     },
     "metadata": {},
     "output_type": "display_data"
    },
    {
     "data": {
      "text/plain": [
       "<function __main__.write_resistor_1>"
      ]
     },
     "execution_count": 28,
     "metadata": {},
     "output_type": "execute_result"
    }
   ],
   "source": [
    "widgets.interact(write_resistor_0, resistor_value=(1, 255, 1))\n",
    "widgets.interact(write_resistor_1, resistor_value=(1, 255, 1))"
   ]
  },
  {
   "cell_type": "code",
   "execution_count": null,
   "metadata": {
    "collapsed": true
   },
   "outputs": [],
   "source": []
  }
 ],
 "metadata": {
  "kernelspec": {
   "display_name": "Python 3",
   "language": "python",
   "name": "python3"
  },
  "language_info": {
   "codemirror_mode": {
    "name": "ipython",
    "version": 3
   },
   "file_extension": ".py",
   "mimetype": "text/x-python",
   "name": "python",
   "nbconvert_exporter": "python",
   "pygments_lexer": "ipython3",
   "version": "3.5.2"
  }
 },
 "nbformat": 4,
 "nbformat_minor": 2
}
